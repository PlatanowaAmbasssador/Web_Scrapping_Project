{
 "cells": [
  {
   "cell_type": "code",
   "execution_count": 1,
   "id": "eaf3476f-0fc8-43f0-a2d9-e87ae072c638",
   "metadata": {},
   "outputs": [],
   "source": [
    "# We will scrape data about cars from consumer leasing offers.\n",
    "# What do we want to scrape for each car?\n",
    "# Name of the model, brand, monthly price, rok produkacji, rodzaj skrzyni biegów, pojemnosc i moc silnika, kolor, typ nadwozia, liczba miejsc (informacje podstawowe)"
   ]
  },
  {
   "cell_type": "markdown",
   "id": "b276a064-5daa-478e-ba76-bc307c2590fd",
   "metadata": {},
   "source": [
    "## Single car model offer - scraping a static webpage using BeautifulSoup"
   ]
  },
  {
   "cell_type": "code",
   "execution_count": 47,
   "id": "34fa8fd1-0da4-4e15-bbbf-ae1a9216002e",
   "metadata": {},
   "outputs": [],
   "source": [
    "# What do we want to scrape for each car?\n",
    "# Name of the model, brand, monthly price, rok produkacji, rodzaj skrzyni biegów, pojemnosc i moc silnika, kolor, typ nadwozia, liczba miejsc (informacje podstawowe)\n",
    "# Wyposażenie: gniazka elektryczne, ABS+ESC+HAC+MCB, assitance i inne gwarancje, wyposazanie zwiazane z bezpieczenstwem, komfort i funckcjonalnosc, koloa i felgi itd.\n",
    "# Wymiary"
   ]
  },
  {
   "cell_type": "code",
   "execution_count": 48,
   "id": "2f98188f-c259-424b-8ab8-bec333aa18be",
   "metadata": {},
   "outputs": [],
   "source": [
    "# Wgrywanie strony"
   ]
  },
  {
   "cell_type": "code",
   "execution_count": 52,
   "id": "b76f0f27-59f6-4fdc-b76d-fb2bc6f182f1",
   "metadata": {},
   "outputs": [],
   "source": [
    "url = 'https://automarket.pl/oferta/hyundai/i20/207224/leasing?f=IjM2LDEwLDIwMDAwLDIi#basic-information'\n",
    "\n",
    "import requests\n",
    "from bs4 import BeautifulSoup\n",
    "\n",
    "response = requests.get(url)\n",
    "soup = BeautifulSoup(response.text,'html.parser')"
   ]
  },
  {
   "cell_type": "code",
   "execution_count": 197,
   "id": "70de5e76-47f5-4f61-b8d9-bc9e118783be",
   "metadata": {},
   "outputs": [],
   "source": [
    "# Price"
   ]
  },
  {
   "cell_type": "code",
   "execution_count": 202,
   "id": "00447a5d-4fb4-4229-b08b-08209991afbb",
   "metadata": {},
   "outputs": [
    {
     "name": "stdout",
     "output_type": "stream",
     "text": [
      "1 327 zł\n"
     ]
    }
   ],
   "source": [
    "price = soup.find('p', class_='text-2xl lg:text-[32px] leading-8 font-semibold !text-pko-red-500 text-pko-primary')\n",
    "print(price.text)  \n",
    "# We need to get rid of the non-breaking character\n",
    "price = price.text.replace('\\xa0', '').replace('zł', '').strip()"
   ]
  },
  {
   "cell_type": "code",
   "execution_count": 53,
   "id": "8192bf76-8207-4f69-9db8-c3b62713182e",
   "metadata": {},
   "outputs": [],
   "source": [
    "# Infomracje Podstawowe: rok produkcji, skrzynia biegow"
   ]
  },
  {
   "cell_type": "code",
   "execution_count": 92,
   "id": "4a685c47-5b09-41ac-bafc-dfb46ff7f9e2",
   "metadata": {},
   "outputs": [],
   "source": [
    "basic_info = soup.find_all('div', class_=\"inline-flex items-center space-x-1 px-2 h-6 justify-center rounded-3xl bg-pko-green-50 text-pko-secondary !h-12 py-3 px-6\")\n",
    "len(basic_info)\n",
    "\n",
    "year = basic_info[0].text\n",
    "skrzynia = basic_info[3].text"
   ]
  },
  {
   "cell_type": "code",
   "execution_count": 93,
   "id": "2584746e-32ec-40d6-8b24-dc27d7c8e273",
   "metadata": {},
   "outputs": [],
   "source": [
    "# pojemnosc silnika, moc silnika, kolor, typ nadwozia, liczba miejsc, kraj pochodzenia"
   ]
  },
  {
   "cell_type": "code",
   "execution_count": 97,
   "id": "e9c715a5-2ae3-4692-bf09-e14b602d066c",
   "metadata": {},
   "outputs": [],
   "source": [
    "info = soup.find_all('p', class_=\"text-smaller text-pko-secondary leading-[21px]\")\n",
    "info\n",
    "\n",
    "pojemnosc_silnika = info[0].text\n",
    "moc_silnika = info[1].text\n",
    "kolor = info[2].text\n",
    "nadwozie = info[3].text\n",
    "liczba_miejsc = info[4].text\n",
    "kraj = info[5].text"
   ]
  },
  {
   "cell_type": "code",
   "execution_count": 99,
   "id": "08a8af0a-310c-46c5-aa09-ddcdfb39be3d",
   "metadata": {},
   "outputs": [],
   "source": [
    "# Lokalizacja auta"
   ]
  },
  {
   "cell_type": "code",
   "execution_count": 105,
   "id": "ee5d8a1d-dcd6-4f6b-b08d-b4d532ed1827",
   "metadata": {},
   "outputs": [],
   "source": [
    "info = soup.find('p', class_='text-sm leading-sm py-3 md:py-0 text-pko-grey-1000 leading-[14px]')\n",
    "lokalizacja = info.text.strip('Lokalizacja samochodu: ')"
   ]
  },
  {
   "cell_type": "code",
   "execution_count": 126,
   "id": "e9a16f17-ac17-48f3-a49e-6bdd0e2c7e30",
   "metadata": {},
   "outputs": [],
   "source": [
    "# felgi - w calach"
   ]
  },
  {
   "cell_type": "code",
   "execution_count": 125,
   "id": "3d71f162-8479-4246-9078-e069b46491cf",
   "metadata": {},
   "outputs": [],
   "source": [
    "import re\n",
    "\n",
    "full_text = soup.get_text()\n",
    "felgi = re.findall(r'(\\d+)\"', full_text)"
   ]
  },
  {
   "cell_type": "code",
   "execution_count": 128,
   "id": "9a0b204f-5fef-485e-b461-b34304aafa6a",
   "metadata": {},
   "outputs": [],
   "source": [
    "# wymiary"
   ]
  },
  {
   "cell_type": "code",
   "execution_count": 185,
   "id": "5d2fcb76-4525-494c-acb2-745ca5a51966",
   "metadata": {},
   "outputs": [
    {
     "name": "stdout",
     "output_type": "stream",
     "text": [
      "406.5 cm\n",
      "177.5 cm\n",
      "145 cm\n",
      "257 cm\n",
      "1065 kg\n"
     ]
    }
   ],
   "source": [
    "info = list(soup.find('div', class_='mt-4'))\n",
    "wymiary = info[1]\n",
    "\n",
    "wymiary_list = []\n",
    "for element in wymiary:\n",
    "    try:\n",
    "        wymiar = element.find('span',class_='text-pko-secondary').text\n",
    "        wymiary_list.append(wymiar)\n",
    "        print(wymiar)\n",
    "    except:\n",
    "        next        \n",
    "\n",
    "dlugosc, szerokosc, wysokosc, rozstaw_osi, masa = wymiary_list"
   ]
  },
  {
   "cell_type": "code",
   "execution_count": 186,
   "id": "89326a88-ef37-4c23-81d5-6eac982a3e82",
   "metadata": {},
   "outputs": [],
   "source": [
    "# numer oferty"
   ]
  },
  {
   "cell_type": "code",
   "execution_count": 195,
   "id": "17099169-173f-4d1f-af49-d8c608ac7a95",
   "metadata": {},
   "outputs": [],
   "source": [
    "# Find the text containing \"Numer oferty:\"\n",
    "text = soup.find(string=re.compile(\"Numer oferty:\"))\n",
    "\n",
    "# Use regex to extract the digits\n",
    "if text:\n",
    "    offer_number = re.search(r\"Numer oferty:\\s*(\\d+)\", text)\n",
    "    if offer_number:\n",
    "        numer_oferty = offer_number.group(1)"
   ]
  },
  {
   "cell_type": "code",
   "execution_count": 196,
   "id": "9f560a57-fc20-447e-ae25-a2083bc96a95",
   "metadata": {},
   "outputs": [
    {
     "data": {
      "text/plain": [
       "'207224'"
      ]
     },
     "execution_count": 196,
     "metadata": {},
     "output_type": "execute_result"
    }
   ],
   "source": [
    "numer_oferty"
   ]
  }
 ],
 "metadata": {
  "kernelspec": {
   "display_name": "Python 3 (ipykernel)",
   "language": "python",
   "name": "python3"
  },
  "language_info": {
   "codemirror_mode": {
    "name": "ipython",
    "version": 3
   },
   "file_extension": ".py",
   "mimetype": "text/x-python",
   "name": "python",
   "nbconvert_exporter": "python",
   "pygments_lexer": "ipython3",
   "version": "3.13.0"
  }
 },
 "nbformat": 4,
 "nbformat_minor": 5
}
